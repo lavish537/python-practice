{
  "nbformat": 4,
  "nbformat_minor": 0,
  "metadata": {
    "colab": {
      "provenance": [],
      "include_colab_link": true
    },
    "kernelspec": {
      "name": "python3",
      "display_name": "Python 3"
    },
    "language_info": {
      "name": "python"
    }
  },
  "cells": [
    {
      "cell_type": "markdown",
      "metadata": {
        "id": "view-in-github",
        "colab_type": "text"
      },
      "source": [
        "<a href=\"https://colab.research.google.com/github/lavish537/python-practice/blob/main/python_classroom.ipynb\" target=\"_parent\"><img src=\"https://colab.research.google.com/assets/colab-badge.svg\" alt=\"Open In Colab\"/></a>"
      ]
    },
    {
      "cell_type": "markdown",
      "source": [
        "DAY 1"
      ],
      "metadata": {
        "id": "kGad4sG32-bK"
      }
    },
    {
      "cell_type": "code",
      "execution_count": null,
      "metadata": {
        "id": "l1ccJ90FjR2l"
      },
      "outputs": [],
      "source": [
        "a,b,c=10,\"hello\",\"cse\""
      ]
    },
    {
      "cell_type": "code",
      "source": [
        "type(b)\n",
        "type(c)"
      ],
      "metadata": {
        "colab": {
          "base_uri": "https://localhost:8080/"
        },
        "id": "I2ewGTdXkYMX",
        "outputId": "12efcbc1-b0ca-4cdf-f7ba-922f3e8dc0d8"
      },
      "execution_count": null,
      "outputs": [
        {
          "output_type": "execute_result",
          "data": {
            "text/plain": [
              "str"
            ]
          },
          "metadata": {},
          "execution_count": 2
        }
      ]
    },
    {
      "cell_type": "code",
      "source": [
        "type(a)"
      ],
      "metadata": {
        "colab": {
          "base_uri": "https://localhost:8080/"
        },
        "id": "Nt3JzMebkoFs",
        "outputId": "466c7fee-a17d-4277-d417-8ebac205e95b"
      },
      "execution_count": null,
      "outputs": [
        {
          "output_type": "execute_result",
          "data": {
            "text/plain": [
              "int"
            ]
          },
          "metadata": {},
          "execution_count": 4
        }
      ]
    },
    {
      "cell_type": "code",
      "source": [
        "id(a)\n"
      ],
      "metadata": {
        "colab": {
          "base_uri": "https://localhost:8080/"
        },
        "id": "gJJTVw62kfF7",
        "outputId": "36c0e734-9608-4caf-f98f-5cfb6cab8c1c"
      },
      "execution_count": null,
      "outputs": [
        {
          "output_type": "execute_result",
          "data": {
            "text/plain": [
              "10758024"
            ]
          },
          "metadata": {},
          "execution_count": 13
        }
      ]
    },
    {
      "cell_type": "code",
      "source": [
        "id(b)"
      ],
      "metadata": {
        "colab": {
          "base_uri": "https://localhost:8080/"
        },
        "id": "xkv6weNw58gJ",
        "outputId": "245e96d5-7626-4128-8707-ce5f7e6efbe5"
      },
      "execution_count": null,
      "outputs": [
        {
          "output_type": "execute_result",
          "data": {
            "text/plain": [
              "134463576349296"
            ]
          },
          "metadata": {},
          "execution_count": 9
        }
      ]
    },
    {
      "cell_type": "code",
      "source": [
        "print(a)\n",
        "print(b,c)"
      ],
      "metadata": {
        "colab": {
          "base_uri": "https://localhost:8080/"
        },
        "id": "ANuc3nZIkkyv",
        "outputId": "d848f1ed-5e65-456c-88c4-e46ffaea4b6a"
      },
      "execution_count": null,
      "outputs": [
        {
          "output_type": "stream",
          "name": "stdout",
          "text": [
            "10\n",
            "hello cse\n"
          ]
        }
      ]
    },
    {
      "cell_type": "code",
      "source": [
        "a,b,c=6,2,5\n",
        "if(a>b):\n",
        "  if(a>c):\n",
        "    print(a,\" is large\")\n",
        "  else:\n",
        "    print(c,\" is large\")\n",
        "else:\n",
        "  if(b>c):\n",
        "    print(b,\" is large\")\n",
        "  else:\n",
        "    print(c,\" is large\")\n"
      ],
      "metadata": {
        "colab": {
          "base_uri": "https://localhost:8080/"
        },
        "id": "WDslVnI9k0Lv",
        "outputId": "861d7b73-51c4-4e01-f331-64178b327fb7"
      },
      "execution_count": null,
      "outputs": [
        {
          "output_type": "stream",
          "name": "stdout",
          "text": [
            "6  is large\n"
          ]
        }
      ]
    },
    {
      "cell_type": "code",
      "source": [
        "a,b,c,d,e=4,24,53,64,2\n",
        "if(a>b and a>c and a>d and a>e):\n",
        "  print(a,\" is largest\")\n",
        "elif(b>c and b>d and b>e):\n",
        "  print(b,\" is largest\")\n",
        "elif( c>d and c>e):\n",
        "  print(c,\" is largest\")\n",
        "elif(d>e):\n",
        "  print(d,\" is largest\")\n",
        "else:\n",
        "  print(e,\" is largest\")"
      ],
      "metadata": {
        "colab": {
          "base_uri": "https://localhost:8080/"
        },
        "id": "t_hYKiLqlDTr",
        "outputId": "b8c05b2b-91e8-42a4-b1ee-53a615100caa"
      },
      "execution_count": null,
      "outputs": [
        {
          "output_type": "stream",
          "name": "stdout",
          "text": [
            "64  is largest\n"
          ]
        }
      ]
    },
    {
      "cell_type": "code",
      "source": [
        "i=1\n",
        "while(i<11):\n",
        "  print(\"5 x \",i,\" = \",i*5)\n",
        "  i=i+1"
      ],
      "metadata": {
        "colab": {
          "base_uri": "https://localhost:8080/"
        },
        "id": "OZg3EhRApS4N",
        "outputId": "c33f2410-f755-4491-8343-2a4f7805999c"
      },
      "execution_count": null,
      "outputs": [
        {
          "output_type": "stream",
          "name": "stdout",
          "text": [
            "5 x  1  =  5\n",
            "5 x  2  =  10\n",
            "5 x  3  =  15\n",
            "5 x  4  =  20\n",
            "5 x  5  =  25\n",
            "5 x  6  =  30\n",
            "5 x  7  =  35\n",
            "5 x  8  =  40\n",
            "5 x  9  =  45\n",
            "5 x  10  =  50\n"
          ]
        }
      ]
    },
    {
      "cell_type": "code",
      "source": [
        "i=1\n",
        "while(i<11):\n",
        "  print(\"5 x \",i,\" = \",i*5)\n",
        "  i=i+1\n",
        "else:\n",
        "  print(\"out of the loop\")\n",
        "  print(\"exit\")"
      ],
      "metadata": {
        "colab": {
          "base_uri": "https://localhost:8080/"
        },
        "id": "Uo0DGfBDqT6P",
        "outputId": "9e0a2a5e-7b57-4a40-c2bd-7936d30a8fdf"
      },
      "execution_count": null,
      "outputs": [
        {
          "output_type": "stream",
          "name": "stdout",
          "text": [
            "5 x  1  =  5\n",
            "5 x  2  =  10\n",
            "5 x  3  =  15\n",
            "5 x  4  =  20\n",
            "5 x  5  =  25\n",
            "5 x  6  =  30\n",
            "5 x  7  =  35\n",
            "5 x  8  =  40\n",
            "5 x  9  =  45\n",
            "5 x  10  =  50\n",
            "out of the loop\n",
            "exit\n"
          ]
        }
      ]
    },
    {
      "cell_type": "code",
      "source": [
        "for i in range(11):\n",
        "  print(i)"
      ],
      "metadata": {
        "colab": {
          "base_uri": "https://localhost:8080/"
        },
        "id": "vpyDWMRAqgNt",
        "outputId": "c4b52504-91d5-4928-ac4c-f19b1c541f60"
      },
      "execution_count": null,
      "outputs": [
        {
          "output_type": "stream",
          "name": "stdout",
          "text": [
            "0\n",
            "1\n",
            "2\n",
            "3\n",
            "4\n",
            "5\n",
            "6\n",
            "7\n",
            "8\n",
            "9\n",
            "10\n"
          ]
        }
      ]
    },
    {
      "cell_type": "code",
      "source": [
        "for i in range(2,10,2):\n",
        "  print(i)"
      ],
      "metadata": {
        "colab": {
          "base_uri": "https://localhost:8080/"
        },
        "id": "cGwYGdW4rXv9",
        "outputId": "f2413159-4400-485c-d6db-d5c058a1d782"
      },
      "execution_count": null,
      "outputs": [
        {
          "output_type": "stream",
          "name": "stdout",
          "text": [
            "2\n",
            "4\n",
            "6\n",
            "8\n"
          ]
        }
      ]
    },
    {
      "cell_type": "code",
      "source": [
        "i=1\n",
        "while(i<11):\n",
        "  print(\"5 x \",i,\" = \",i*5)\n",
        "  i=i+1"
      ],
      "metadata": {
        "colab": {
          "base_uri": "https://localhost:8080/"
        },
        "id": "B-iW13VRsQ5v",
        "outputId": "05ae334b-0a5c-4c8d-d867-0a9ccec7fd1c"
      },
      "execution_count": null,
      "outputs": [
        {
          "output_type": "stream",
          "name": "stdout",
          "text": [
            "5 x  1  =  5\n",
            "5 x  2  =  10\n",
            "5 x  3  =  15\n",
            "5 x  4  =  20\n",
            "5 x  5  =  25\n",
            "5 x  6  =  30\n",
            "5 x  7  =  35\n",
            "5 x  8  =  40\n",
            "5 x  9  =  45\n",
            "5 x  10  =  50\n"
          ]
        }
      ]
    },
    {
      "cell_type": "code",
      "source": [
        "for i in range(1,11):\n",
        "  print(\"5 x \",i,\" = \",i*5)"
      ],
      "metadata": {
        "colab": {
          "base_uri": "https://localhost:8080/"
        },
        "id": "xu1CUN4ksRma",
        "outputId": "88c87793-6710-413f-b2a1-a43545f51920"
      },
      "execution_count": null,
      "outputs": [
        {
          "output_type": "stream",
          "name": "stdout",
          "text": [
            "5 x  1  =  5\n",
            "5 x  2  =  10\n",
            "5 x  3  =  15\n",
            "5 x  4  =  20\n",
            "5 x  5  =  25\n",
            "5 x  6  =  30\n",
            "5 x  7  =  35\n",
            "5 x  8  =  40\n",
            "5 x  9  =  45\n",
            "5 x  10  =  50\n"
          ]
        }
      ]
    },
    {
      "cell_type": "code",
      "source": [
        "#area of rectangle\n",
        "l=10\n",
        "b=5\n",
        "print(\" area of rectangle is \",l*b)"
      ],
      "metadata": {
        "colab": {
          "base_uri": "https://localhost:8080/"
        },
        "id": "-KKDl5T3sjW3",
        "outputId": "83589fe2-b97d-46d7-f1ed-672830c9642d"
      },
      "execution_count": null,
      "outputs": [
        {
          "output_type": "stream",
          "name": "stdout",
          "text": [
            " area of rectangle is  50\n"
          ]
        }
      ]
    },
    {
      "cell_type": "markdown",
      "source": [
        "#day 2"
      ],
      "metadata": {
        "id": "GcQtX_-l2xI2"
      }
    },
    {
      "cell_type": "code",
      "source": [
        "num=int(input(\"enter the no. : \"))\n",
        "for i in range(1,11):\n",
        "  print(num,\" x \",i,\" = \",i*num)"
      ],
      "metadata": {
        "colab": {
          "base_uri": "https://localhost:8080/"
        },
        "id": "OVOAsiIo20Of",
        "outputId": "1c9c327e-ba61-43fc-fa04-ee72e3ac8d71"
      },
      "execution_count": null,
      "outputs": [
        {
          "output_type": "stream",
          "name": "stdout",
          "text": [
            "enter the no. : 7\n",
            "7  x  1  =  7\n",
            "7  x  2  =  14\n",
            "7  x  3  =  21\n",
            "7  x  4  =  28\n",
            "7  x  5  =  35\n",
            "7  x  6  =  42\n",
            "7  x  7  =  49\n",
            "7  x  8  =  56\n",
            "7  x  9  =  63\n",
            "7  x  10  =  70\n"
          ]
        }
      ]
    },
    {
      "cell_type": "code",
      "source": [
        "l=float(input(\"enter length: \"))\n",
        "b=float(input(\"enter breadth: \"))\n",
        "print(\"perimeter of rectangle is \",2*(l+b))\n"
      ],
      "metadata": {
        "colab": {
          "base_uri": "https://localhost:8080/"
        },
        "id": "TLWykab84IVJ",
        "outputId": "b7f314b9-7517-47a4-b71c-f4ea81060406"
      },
      "execution_count": null,
      "outputs": [
        {
          "output_type": "stream",
          "name": "stdout",
          "text": [
            "enter length: 4\n",
            "enter breadth: 3\n",
            "perimeter of rectangle is  14.0\n"
          ]
        }
      ]
    },
    {
      "cell_type": "code",
      "source": [
        "r=float(input(\"enter radius of circle : \"))\n",
        "print(\"area of the circle is \", 3.14*r*r)"
      ],
      "metadata": {
        "colab": {
          "base_uri": "https://localhost:8080/"
        },
        "id": "uuZM2yyL4ixz",
        "outputId": "a0aea244-08e4-4458-d4d0-45291725dff2"
      },
      "execution_count": null,
      "outputs": [
        {
          "output_type": "stream",
          "name": "stdout",
          "text": [
            "enter radius of circle : 10\n",
            "area of the circle is  314.0\n"
          ]
        }
      ]
    },
    {
      "cell_type": "code",
      "source": [
        "#define function\n",
        "def fun(fname):\n",
        "  print(\"Hello user \" + fname)\n",
        "  print(\"Hello user \" + fname)\n",
        "  print(\"Hello user \" + fname)\n",
        "fun(\"hi\")"
      ],
      "metadata": {
        "colab": {
          "base_uri": "https://localhost:8080/"
        },
        "id": "3HNzAabJ8V0m",
        "outputId": "708d8bfd-8a87-43d8-b44b-85178f1ac306"
      },
      "execution_count": null,
      "outputs": [
        {
          "output_type": "stream",
          "name": "stdout",
          "text": [
            "Hello user hi\n",
            "Hello user hi\n",
            "Hello user hi\n"
          ]
        }
      ]
    },
    {
      "cell_type": "code",
      "source": [
        "def fun2(*k):\n",
        "  print(\"Hello user \" + k[0])\n",
        "  print(\"Hello user \" + k[1])\n",
        "  print(\"Hello user \" + k[2])\n",
        "fun2(\"a\",\"b\",\"c\")"
      ],
      "metadata": {
        "colab": {
          "base_uri": "https://localhost:8080/"
        },
        "id": "zrdGg9pO8at2",
        "outputId": "469ebca9-1ef5-4d22-b1ac-350f0a1fbcda"
      },
      "execution_count": null,
      "outputs": [
        {
          "output_type": "stream",
          "name": "stdout",
          "text": [
            "Hello user a\n",
            "Hello user b\n",
            "Hello user c\n"
          ]
        }
      ]
    },
    {
      "cell_type": "code",
      "source": [
        "#default parameter\n",
        "def fun3(fname= \"Lavish\"):\n",
        "  print(\"Hello user \" + fname)\n",
        "  print(\"Hello user \" + fname)\n",
        "  print(\"Hello user \" + fname)\n",
        "fun3()\n",
        "fun3(\"yo\")"
      ],
      "metadata": {
        "colab": {
          "base_uri": "https://localhost:8080/"
        },
        "id": "_ztfMOcO-Fey",
        "outputId": "5ffdb7a6-ae59-49ff-8b67-7b93c51e0ffb"
      },
      "execution_count": 1,
      "outputs": [
        {
          "output_type": "stream",
          "name": "stdout",
          "text": [
            "Hello user Lavish\n",
            "Hello user Lavish\n",
            "Hello user Lavish\n",
            "Hello user yo\n",
            "Hello user yo\n",
            "Hello user yo\n"
          ]
        }
      ]
    },
    {
      "cell_type": "code",
      "source": [
        "def f1(x):\n",
        "  return x*5\n",
        "f1(10)"
      ],
      "metadata": {
        "colab": {
          "base_uri": "https://localhost:8080/"
        },
        "id": "0xQyX_R4-mNu",
        "outputId": "63d0b499-0e52-47d0-c751-5867ff823f62"
      },
      "execution_count": null,
      "outputs": [
        {
          "output_type": "execute_result",
          "data": {
            "text/plain": [
              "50"
            ]
          },
          "metadata": {},
          "execution_count": 25
        }
      ]
    },
    {
      "cell_type": "code",
      "source": [
        "def f2(child1,child3,child2):\n",
        "  print(\"the value is \"+ child3)\n",
        "f2(child1='a',child2='b',child3='c')"
      ],
      "metadata": {
        "colab": {
          "base_uri": "https://localhost:8080/"
        },
        "id": "7xCvCo50CADR",
        "outputId": "b3999d05-176f-4c9a-cc4f-38570b57af29"
      },
      "execution_count": null,
      "outputs": [
        {
          "output_type": "stream",
          "name": "stdout",
          "text": [
            "the value is c\n"
          ]
        }
      ]
    },
    {
      "cell_type": "code",
      "source": [
        "def f3(**k):\n",
        "  print(\"the value is \"+ k['fname'])\n",
        "f3(fname='a',mname='b',nname='c')"
      ],
      "metadata": {
        "colab": {
          "base_uri": "https://localhost:8080/"
        },
        "id": "acCG7WV8Dopc",
        "outputId": "4c784c93-e803-484c-c8dc-ad82c8f72f04"
      },
      "execution_count": null,
      "outputs": [
        {
          "output_type": "stream",
          "name": "stdout",
          "text": [
            "the value is a\n"
          ]
        }
      ]
    },
    {
      "cell_type": "code",
      "source": [
        "#calculator\n",
        "def add(a,b):\n",
        "  return a+b\n",
        "def sub(a,b):\n",
        "  return a-b\n",
        "def multi(a,b):\n",
        "  return a*b\n",
        "def div(a,b):\n",
        "  if(b==0):\n",
        "    return \"error\"\n",
        "  else:\n",
        "    return a/b\n",
        "def calc(var,a,b):\n",
        "  if(var==\"+\"):\n",
        "    print(sub(a,b))\n",
        "  elif(var==\"-\"):\n",
        "    print(sub(a,b))\n",
        "  elif(var==\"*\"):\n",
        "    print(multi(a,b))\n",
        "  else:\n",
        "    print(div(a,b))\n",
        "f=float(input())\n",
        "g=input()\n",
        "h=float(input())\n",
        "calc(g,f,h)"
      ],
      "metadata": {
        "colab": {
          "base_uri": "https://localhost:8080/"
        },
        "id": "cuGxFkQaGQEy",
        "outputId": "4dae109d-17c8-435f-d10b-02feb9dc5115"
      },
      "execution_count": null,
      "outputs": [
        {
          "output_type": "stream",
          "name": "stdout",
          "text": [
            "2\n",
            "/\n",
            "2\n",
            "1.0\n"
          ]
        }
      ]
    },
    {
      "cell_type": "code",
      "source": [
        "#fibonacci series using recursion\n",
        "def fibonacci(n):\n",
        "    if n <= 0:\n",
        "        return 0\n",
        "    elif n == 1:\n",
        "        return 1\n",
        "    else:\n",
        "        return fibonacci(n-1) + fibonacci(n-2)\n",
        "n = int(input(\"Enter the number of terms in the Fibonacci sequence: \"))\n",
        "print(\"Fibonacci sequence:\")\n",
        "for i in range(n):\n",
        "    print(fibonacci(i), end=\" \")"
      ],
      "metadata": {
        "colab": {
          "base_uri": "https://localhost:8080/"
        },
        "id": "e7_74f9ZmUNy",
        "outputId": "649e544a-504b-4db8-8f73-5343aeeec588"
      },
      "execution_count": null,
      "outputs": [
        {
          "output_type": "stream",
          "name": "stdout",
          "text": [
            "Enter the number of terms in the Fibonacci sequence: 5\n",
            "Fibonacci sequence:\n",
            "0 1 1 2 3 "
          ]
        }
      ]
    },
    {
      "cell_type": "code",
      "source": [
        "#factorial of a number\n",
        "def factorial(n):\n",
        "    if n == 0 or n == 1:\n",
        "        return 1\n",
        "    else:\n",
        "        return n * factorial(n - 1)\n",
        "n = int(input(\"Enter a number to calculate its factorial: \"))\n",
        "print(\"Factorial of\", n, \"is\", factorial(n))"
      ],
      "metadata": {
        "colab": {
          "base_uri": "https://localhost:8080/"
        },
        "id": "iWmolPiLmZ-A",
        "outputId": "c92c288f-9f40-480a-ee15-dfd9634cbd0d"
      },
      "execution_count": null,
      "outputs": [
        {
          "output_type": "stream",
          "name": "stdout",
          "text": [
            "Enter a number to calculate its factorial: 5\n",
            "Factorial of 5 is 120\n"
          ]
        }
      ]
    },
    {
      "cell_type": "code",
      "source": [
        "#to print all the prime within a given internval\n",
        "def print_prime_numbers(n):\n",
        "    print(\"Prime numbers up to\", n, \":\")\n",
        "    for num in range(2, n + 1):\n",
        "        is_prime = True\n",
        "        for i in range(2, int(num**0.5) + 1):\n",
        "            if num % i == 0:\n",
        "                is_prime = False\n",
        "                break\n",
        "        if is_prime:\n",
        "            print(num, end=\" \")\n",
        "n = int(input(\"Enter a number to find all prime numbers up to it: \"))\n",
        "print_prime_numbers(n)"
      ],
      "metadata": {
        "colab": {
          "base_uri": "https://localhost:8080/"
        },
        "id": "n-kGP2b-mhyZ",
        "outputId": "3a14ff28-af94-4e41-e44e-2a1b0f9f2496"
      },
      "execution_count": null,
      "outputs": [
        {
          "output_type": "stream",
          "name": "stdout",
          "text": [
            "Enter a number to find all prime numbers up to it: 100\n",
            "Prime numbers up to 100 :\n",
            "2 3 5 7 11 13 17 19 23 29 31 37 41 43 47 53 59 61 67 71 73 79 83 89 97 "
          ]
        }
      ]
    },
    {
      "cell_type": "code",
      "source": [
        "#add two binary no. by getting values from user\n",
        "num1=input(\"Enter first binary number: \")\n",
        "num2=input(\"Enter another binary number: \")\n",
        "sum=bin(int(num1,2) + int(num2,2))\n",
        "print(\"The sum of\", num1, \"and\", num2, \"in binary is:\", sum)"
      ],
      "metadata": {
        "colab": {
          "base_uri": "https://localhost:8080/"
        },
        "id": "EL4uhOOkr3JZ",
        "outputId": "3bbb3ef3-63d0-4004-8d05-e5260a848858"
      },
      "execution_count": null,
      "outputs": [
        {
          "output_type": "stream",
          "name": "stdout",
          "text": [
            "Enter first binary number: 11\n",
            "Enter another binary number: 11\n",
            "The sum of 11 and 11 in binary is: 110\n"
          ]
        }
      ]
    },
    {
      "cell_type": "code",
      "source": [
        "#to take binary from user and print decimal\n",
        "num3=input(\"enter binary number: \")\n",
        "dec_num=int(num3,2)\n",
        "print(\"The decimal equivalent of\", num3, \"is:\", dec_num)"
      ],
      "metadata": {
        "id": "cDlDqwntvr8p"
      },
      "execution_count": null,
      "outputs": []
    },
    {
      "cell_type": "markdown",
      "source": [
        "Day 4"
      ],
      "metadata": {
        "id": "-4f53eJnYV7y"
      }
    },
    {
      "cell_type": "code",
      "source": [
        "#add two binary no. specified in program\n",
        "num1=\"1101\"\n",
        "num2=\"1011\"\n",
        "sum=bin(int(num1,2) + int(num2,2))\n",
        "print(\"The sum of\", num1, \"and\", num2, \"in binary is:\", sum[2:])"
      ],
      "metadata": {
        "colab": {
          "base_uri": "https://localhost:8080/"
        },
        "id": "q29WlY3GYVeD",
        "outputId": "dcf055a6-9ba2-434a-d10c-ffe93ea22176"
      },
      "execution_count": 3,
      "outputs": [
        {
          "output_type": "stream",
          "name": "stdout",
          "text": [
            "The sum of 1101 and 1011 in binary is: 11000\n"
          ]
        }
      ]
    },
    {
      "cell_type": "code",
      "source": [
        "#add two binary no. by getting values from user\n",
        "num1=input(\"Enter first binary number: \")\n",
        "num2=input(\"Enter another binary number: \")\n",
        "sum=bin(int(num1,2) + int(num2,2))\n",
        "print(\"The sum of\", num1, \"and\", num2, \"in binary is:\", sum[2:])"
      ],
      "metadata": {
        "colab": {
          "base_uri": "https://localhost:8080/"
        },
        "id": "nYAjA6meZH1c",
        "outputId": "0f5db8fb-9da7-4456-e37c-ee310b3585e1"
      },
      "execution_count": 6,
      "outputs": [
        {
          "output_type": "stream",
          "name": "stdout",
          "text": [
            "Enter first binary number: 1101\n",
            "Enter another binary number: 1011\n",
            "The sum of 1101 and 1011 in binary is: 11000\n"
          ]
        }
      ]
    },
    {
      "cell_type": "code",
      "source": [
        "#to find power of a number\n",
        "base=float(input(\"Enter base:\"))\n",
        "exponent=float(input(\"Enter exponent:\"))\n",
        "result=base**exponent\n",
        "print(base,\"to the power of\",exponent,\"is\",result)"
      ],
      "metadata": {
        "colab": {
          "base_uri": "https://localhost:8080/"
        },
        "id": "acpVXjocct5h",
        "outputId": "363b6a88-803a-4996-9f3b-ab472dd2eacc"
      },
      "execution_count": 9,
      "outputs": [
        {
          "output_type": "stream",
          "name": "stdout",
          "text": [
            "Enter base:2\n",
            "Enter exponent:7\n",
            "2.0 to the power of 7.0 is 128.0\n"
          ]
        }
      ]
    }
  ]
}