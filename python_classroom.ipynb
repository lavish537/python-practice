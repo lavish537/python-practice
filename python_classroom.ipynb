{
  "nbformat": 4,
  "nbformat_minor": 0,
  "metadata": {
    "colab": {
      "provenance": [],
      "include_colab_link": true
    },
    "kernelspec": {
      "name": "python3",
      "display_name": "Python 3"
    },
    "language_info": {
      "name": "python"
    }
  },
  "cells": [
    {
      "cell_type": "markdown",
      "metadata": {
        "id": "view-in-github",
        "colab_type": "text"
      },
      "source": [
        "<a href=\"https://colab.research.google.com/github/lavish537/python-practice/blob/main/python_classroom.ipynb\" target=\"_parent\"><img src=\"https://colab.research.google.com/assets/colab-badge.svg\" alt=\"Open In Colab\"/></a>"
      ]
    },
    {
      "cell_type": "markdown",
      "source": [
        "DAY 1"
      ],
      "metadata": {
        "id": "kGad4sG32-bK"
      }
    },
    {
      "cell_type": "code",
      "execution_count": null,
      "metadata": {
        "id": "l1ccJ90FjR2l"
      },
      "outputs": [],
      "source": [
        "a,b,c=10,\"hello\",\"cse\""
      ]
    },
    {
      "cell_type": "code",
      "source": [
        "type(b)\n",
        "type(c)"
      ],
      "metadata": {
        "colab": {
          "base_uri": "https://localhost:8080/"
        },
        "id": "I2ewGTdXkYMX",
        "outputId": "12efcbc1-b0ca-4cdf-f7ba-922f3e8dc0d8"
      },
      "execution_count": null,
      "outputs": [
        {
          "output_type": "execute_result",
          "data": {
            "text/plain": [
              "str"
            ]
          },
          "metadata": {},
          "execution_count": 2
        }
      ]
    },
    {
      "cell_type": "code",
      "source": [
        "type(a)"
      ],
      "metadata": {
        "colab": {
          "base_uri": "https://localhost:8080/"
        },
        "id": "Nt3JzMebkoFs",
        "outputId": "466c7fee-a17d-4277-d417-8ebac205e95b"
      },
      "execution_count": null,
      "outputs": [
        {
          "output_type": "execute_result",
          "data": {
            "text/plain": [
              "int"
            ]
          },
          "metadata": {},
          "execution_count": 4
        }
      ]
    },
    {
      "cell_type": "code",
      "source": [
        "id(a)\n"
      ],
      "metadata": {
        "colab": {
          "base_uri": "https://localhost:8080/"
        },
        "id": "gJJTVw62kfF7",
        "outputId": "36c0e734-9608-4caf-f98f-5cfb6cab8c1c"
      },
      "execution_count": null,
      "outputs": [
        {
          "output_type": "execute_result",
          "data": {
            "text/plain": [
              "10758024"
            ]
          },
          "metadata": {},
          "execution_count": 13
        }
      ]
    },
    {
      "cell_type": "code",
      "source": [
        "id(b)"
      ],
      "metadata": {
        "colab": {
          "base_uri": "https://localhost:8080/"
        },
        "id": "xkv6weNw58gJ",
        "outputId": "245e96d5-7626-4128-8707-ce5f7e6efbe5"
      },
      "execution_count": null,
      "outputs": [
        {
          "output_type": "execute_result",
          "data": {
            "text/plain": [
              "134463576349296"
            ]
          },
          "metadata": {},
          "execution_count": 9
        }
      ]
    },
    {
      "cell_type": "code",
      "source": [
        "print(a)\n",
        "print(b,c)"
      ],
      "metadata": {
        "colab": {
          "base_uri": "https://localhost:8080/"
        },
        "id": "ANuc3nZIkkyv",
        "outputId": "d848f1ed-5e65-456c-88c4-e46ffaea4b6a"
      },
      "execution_count": null,
      "outputs": [
        {
          "output_type": "stream",
          "name": "stdout",
          "text": [
            "10\n",
            "hello cse\n"
          ]
        }
      ]
    },
    {
      "cell_type": "code",
      "source": [
        "a,b,c=6,2,5\n",
        "if(a>b):\n",
        "  if(a>c):\n",
        "    print(a,\" is large\")\n",
        "  else:\n",
        "    print(c,\" is large\")\n",
        "else:\n",
        "  if(b>c):\n",
        "    print(b,\" is large\")\n",
        "  else:\n",
        "    print(c,\" is large\")\n"
      ],
      "metadata": {
        "colab": {
          "base_uri": "https://localhost:8080/"
        },
        "id": "WDslVnI9k0Lv",
        "outputId": "861d7b73-51c4-4e01-f331-64178b327fb7"
      },
      "execution_count": null,
      "outputs": [
        {
          "output_type": "stream",
          "name": "stdout",
          "text": [
            "6  is large\n"
          ]
        }
      ]
    },
    {
      "cell_type": "code",
      "source": [
        "a,b,c,d,e=4,24,53,64,2\n",
        "if(a>b and a>c and a>d and a>e):\n",
        "  print(a,\" is largest\")\n",
        "elif(b>c and b>d and b>e):\n",
        "  print(b,\" is largest\")\n",
        "elif( c>d and c>e):\n",
        "  print(c,\" is largest\")\n",
        "elif(d>e):\n",
        "  print(d,\" is largest\")\n",
        "else:\n",
        "  print(e,\" is largest\")"
      ],
      "metadata": {
        "colab": {
          "base_uri": "https://localhost:8080/"
        },
        "id": "t_hYKiLqlDTr",
        "outputId": "b8c05b2b-91e8-42a4-b1ee-53a615100caa"
      },
      "execution_count": null,
      "outputs": [
        {
          "output_type": "stream",
          "name": "stdout",
          "text": [
            "64  is largest\n"
          ]
        }
      ]
    },
    {
      "cell_type": "code",
      "source": [
        "i=1\n",
        "while(i<11):\n",
        "  print(\"5 x \",i,\" = \",i*5)\n",
        "  i=i+1"
      ],
      "metadata": {
        "colab": {
          "base_uri": "https://localhost:8080/"
        },
        "id": "OZg3EhRApS4N",
        "outputId": "c33f2410-f755-4491-8343-2a4f7805999c"
      },
      "execution_count": null,
      "outputs": [
        {
          "output_type": "stream",
          "name": "stdout",
          "text": [
            "5 x  1  =  5\n",
            "5 x  2  =  10\n",
            "5 x  3  =  15\n",
            "5 x  4  =  20\n",
            "5 x  5  =  25\n",
            "5 x  6  =  30\n",
            "5 x  7  =  35\n",
            "5 x  8  =  40\n",
            "5 x  9  =  45\n",
            "5 x  10  =  50\n"
          ]
        }
      ]
    },
    {
      "cell_type": "code",
      "source": [
        "i=1\n",
        "while(i<11):\n",
        "  print(\"5 x \",i,\" = \",i*5)\n",
        "  i=i+1\n",
        "else:\n",
        "  print(\"out of the loop\")\n",
        "  print(\"exit\")"
      ],
      "metadata": {
        "colab": {
          "base_uri": "https://localhost:8080/"
        },
        "id": "Uo0DGfBDqT6P",
        "outputId": "9e0a2a5e-7b57-4a40-c2bd-7936d30a8fdf"
      },
      "execution_count": null,
      "outputs": [
        {
          "output_type": "stream",
          "name": "stdout",
          "text": [
            "5 x  1  =  5\n",
            "5 x  2  =  10\n",
            "5 x  3  =  15\n",
            "5 x  4  =  20\n",
            "5 x  5  =  25\n",
            "5 x  6  =  30\n",
            "5 x  7  =  35\n",
            "5 x  8  =  40\n",
            "5 x  9  =  45\n",
            "5 x  10  =  50\n",
            "out of the loop\n",
            "exit\n"
          ]
        }
      ]
    },
    {
      "cell_type": "code",
      "source": [
        "for i in range(11):\n",
        "  print(i)"
      ],
      "metadata": {
        "colab": {
          "base_uri": "https://localhost:8080/"
        },
        "id": "vpyDWMRAqgNt",
        "outputId": "c4b52504-91d5-4928-ac4c-f19b1c541f60"
      },
      "execution_count": null,
      "outputs": [
        {
          "output_type": "stream",
          "name": "stdout",
          "text": [
            "0\n",
            "1\n",
            "2\n",
            "3\n",
            "4\n",
            "5\n",
            "6\n",
            "7\n",
            "8\n",
            "9\n",
            "10\n"
          ]
        }
      ]
    },
    {
      "cell_type": "code",
      "source": [
        "for i in range(2,10,2):\n",
        "  print(i)"
      ],
      "metadata": {
        "colab": {
          "base_uri": "https://localhost:8080/"
        },
        "id": "cGwYGdW4rXv9",
        "outputId": "f2413159-4400-485c-d6db-d5c058a1d782"
      },
      "execution_count": null,
      "outputs": [
        {
          "output_type": "stream",
          "name": "stdout",
          "text": [
            "2\n",
            "4\n",
            "6\n",
            "8\n"
          ]
        }
      ]
    },
    {
      "cell_type": "code",
      "source": [
        "i=1\n",
        "while(i<11):\n",
        "  print(\"5 x \",i,\" = \",i*5)\n",
        "  i=i+1"
      ],
      "metadata": {
        "colab": {
          "base_uri": "https://localhost:8080/"
        },
        "id": "B-iW13VRsQ5v",
        "outputId": "05ae334b-0a5c-4c8d-d867-0a9ccec7fd1c"
      },
      "execution_count": null,
      "outputs": [
        {
          "output_type": "stream",
          "name": "stdout",
          "text": [
            "5 x  1  =  5\n",
            "5 x  2  =  10\n",
            "5 x  3  =  15\n",
            "5 x  4  =  20\n",
            "5 x  5  =  25\n",
            "5 x  6  =  30\n",
            "5 x  7  =  35\n",
            "5 x  8  =  40\n",
            "5 x  9  =  45\n",
            "5 x  10  =  50\n"
          ]
        }
      ]
    },
    {
      "cell_type": "code",
      "source": [
        "for i in range(1,11):\n",
        "  print(\"5 x \",i,\" = \",i*5)"
      ],
      "metadata": {
        "colab": {
          "base_uri": "https://localhost:8080/"
        },
        "id": "xu1CUN4ksRma",
        "outputId": "88c87793-6710-413f-b2a1-a43545f51920"
      },
      "execution_count": null,
      "outputs": [
        {
          "output_type": "stream",
          "name": "stdout",
          "text": [
            "5 x  1  =  5\n",
            "5 x  2  =  10\n",
            "5 x  3  =  15\n",
            "5 x  4  =  20\n",
            "5 x  5  =  25\n",
            "5 x  6  =  30\n",
            "5 x  7  =  35\n",
            "5 x  8  =  40\n",
            "5 x  9  =  45\n",
            "5 x  10  =  50\n"
          ]
        }
      ]
    },
    {
      "cell_type": "code",
      "source": [
        "#area of rectangle\n",
        "l=10\n",
        "b=5\n",
        "print(\" area of rectangle is \",l*b)"
      ],
      "metadata": {
        "colab": {
          "base_uri": "https://localhost:8080/"
        },
        "id": "-KKDl5T3sjW3",
        "outputId": "83589fe2-b97d-46d7-f1ed-672830c9642d"
      },
      "execution_count": null,
      "outputs": [
        {
          "output_type": "stream",
          "name": "stdout",
          "text": [
            " area of rectangle is  50\n"
          ]
        }
      ]
    },
    {
      "cell_type": "markdown",
      "source": [
        "#day 2"
      ],
      "metadata": {
        "id": "GcQtX_-l2xI2"
      }
    },
    {
      "cell_type": "code",
      "source": [
        "num=int(input(\"enter the no. : \"))\n",
        "for i in range(1,11):\n",
        "  print(num,\" x \",i,\" = \",i*num)"
      ],
      "metadata": {
        "colab": {
          "base_uri": "https://localhost:8080/"
        },
        "id": "OVOAsiIo20Of",
        "outputId": "1c9c327e-ba61-43fc-fa04-ee72e3ac8d71"
      },
      "execution_count": null,
      "outputs": [
        {
          "output_type": "stream",
          "name": "stdout",
          "text": [
            "enter the no. : 7\n",
            "7  x  1  =  7\n",
            "7  x  2  =  14\n",
            "7  x  3  =  21\n",
            "7  x  4  =  28\n",
            "7  x  5  =  35\n",
            "7  x  6  =  42\n",
            "7  x  7  =  49\n",
            "7  x  8  =  56\n",
            "7  x  9  =  63\n",
            "7  x  10  =  70\n"
          ]
        }
      ]
    },
    {
      "cell_type": "code",
      "source": [
        "l=float(input(\"enter length: \"))\n",
        "b=float(input(\"enter breadth: \"))\n",
        "print(\"perimeter of rectangle is \",2*(l+b))\n"
      ],
      "metadata": {
        "colab": {
          "base_uri": "https://localhost:8080/"
        },
        "id": "TLWykab84IVJ",
        "outputId": "b7f314b9-7517-47a4-b71c-f4ea81060406"
      },
      "execution_count": null,
      "outputs": [
        {
          "output_type": "stream",
          "name": "stdout",
          "text": [
            "enter length: 4\n",
            "enter breadth: 3\n",
            "perimeter of rectangle is  14.0\n"
          ]
        }
      ]
    },
    {
      "cell_type": "code",
      "source": [
        "r=float(input(\"enter radius of circle : \"))\n",
        "print(\"area of the circle is \", 3.14*r*r)"
      ],
      "metadata": {
        "colab": {
          "base_uri": "https://localhost:8080/"
        },
        "id": "uuZM2yyL4ixz",
        "outputId": "a0aea244-08e4-4458-d4d0-45291725dff2"
      },
      "execution_count": null,
      "outputs": [
        {
          "output_type": "stream",
          "name": "stdout",
          "text": [
            "enter radius of circle : 10\n",
            "area of the circle is  314.0\n"
          ]
        }
      ]
    },
    {
      "cell_type": "code",
      "source": [
        "#define function\n",
        "def fun(fname):\n",
        "  print(\"Hello user \" + fname)\n",
        "  print(\"Hello user \" + fname)\n",
        "  print(\"Hello user \" + fname)\n",
        "fun(\"hi\")"
      ],
      "metadata": {
        "colab": {
          "base_uri": "https://localhost:8080/"
        },
        "id": "3HNzAabJ8V0m",
        "outputId": "708d8bfd-8a87-43d8-b44b-85178f1ac306"
      },
      "execution_count": null,
      "outputs": [
        {
          "output_type": "stream",
          "name": "stdout",
          "text": [
            "Hello user hi\n",
            "Hello user hi\n",
            "Hello user hi\n"
          ]
        }
      ]
    },
    {
      "cell_type": "code",
      "source": [
        "def fun2(*k):\n",
        "  print(\"Hello user \" + k[0])\n",
        "  print(\"Hello user \" + k[1])\n",
        "  print(\"Hello user \" + k[2])\n",
        "fun2(\"a\",\"b\",\"c\")"
      ],
      "metadata": {
        "colab": {
          "base_uri": "https://localhost:8080/"
        },
        "id": "zrdGg9pO8at2",
        "outputId": "469ebca9-1ef5-4d22-b1ac-350f0a1fbcda"
      },
      "execution_count": null,
      "outputs": [
        {
          "output_type": "stream",
          "name": "stdout",
          "text": [
            "Hello user a\n",
            "Hello user b\n",
            "Hello user c\n"
          ]
        }
      ]
    },
    {
      "cell_type": "code",
      "source": [
        "#default parameter\n",
        "def fun3(fname= \"Lavish\"):\n",
        "  print(\"Hello user \" + fname)\n",
        "  print(\"Hello user \" + fname)\n",
        "  print(\"Hello user \" + fname)\n",
        "fun3()\n",
        "fun3(\"yo\")"
      ],
      "metadata": {
        "colab": {
          "base_uri": "https://localhost:8080/"
        },
        "id": "_ztfMOcO-Fey",
        "outputId": "5ffdb7a6-ae59-49ff-8b67-7b93c51e0ffb"
      },
      "execution_count": null,
      "outputs": [
        {
          "output_type": "stream",
          "name": "stdout",
          "text": [
            "Hello user Lavish\n",
            "Hello user Lavish\n",
            "Hello user Lavish\n",
            "Hello user yo\n",
            "Hello user yo\n",
            "Hello user yo\n"
          ]
        }
      ]
    },
    {
      "cell_type": "code",
      "source": [
        "def f1(x):\n",
        "  return x*5\n",
        "f1(10)"
      ],
      "metadata": {
        "colab": {
          "base_uri": "https://localhost:8080/"
        },
        "id": "0xQyX_R4-mNu",
        "outputId": "63d0b499-0e52-47d0-c751-5867ff823f62"
      },
      "execution_count": null,
      "outputs": [
        {
          "output_type": "execute_result",
          "data": {
            "text/plain": [
              "50"
            ]
          },
          "metadata": {},
          "execution_count": 25
        }
      ]
    },
    {
      "cell_type": "code",
      "source": [
        "def f2(child1,child3,child2):\n",
        "  print(\"the value is \"+ child3)\n",
        "f2(child1='a',child2='b',child3='c')"
      ],
      "metadata": {
        "colab": {
          "base_uri": "https://localhost:8080/"
        },
        "id": "7xCvCo50CADR",
        "outputId": "b3999d05-176f-4c9a-cc4f-38570b57af29"
      },
      "execution_count": null,
      "outputs": [
        {
          "output_type": "stream",
          "name": "stdout",
          "text": [
            "the value is c\n"
          ]
        }
      ]
    },
    {
      "cell_type": "code",
      "source": [
        "def f3(**k):\n",
        "  print(\"the value is \"+ k['fname'])\n",
        "f3(fname='a',mname='b',nname='c')"
      ],
      "metadata": {
        "colab": {
          "base_uri": "https://localhost:8080/"
        },
        "id": "acCG7WV8Dopc",
        "outputId": "4c784c93-e803-484c-c8dc-ad82c8f72f04"
      },
      "execution_count": null,
      "outputs": [
        {
          "output_type": "stream",
          "name": "stdout",
          "text": [
            "the value is a\n"
          ]
        }
      ]
    },
    {
      "cell_type": "code",
      "source": [
        "#calculator\n",
        "def add(a,b):\n",
        "  return a+b\n",
        "def sub(a,b):\n",
        "  return a-b\n",
        "def multi(a,b):\n",
        "  return a*b\n",
        "def div(a,b):\n",
        "  if(b==0):\n",
        "    return \"error\"\n",
        "  else:\n",
        "    return a/b\n",
        "def calc(var,a,b):\n",
        "  if(var==\"+\"):\n",
        "    print(sub(a,b))\n",
        "  elif(var==\"-\"):\n",
        "    print(sub(a,b))\n",
        "  elif(var==\"*\"):\n",
        "    print(multi(a,b))\n",
        "  else:\n",
        "    print(div(a,b))\n",
        "f=float(input())\n",
        "g=input()\n",
        "h=float(input())\n",
        "calc(g,f,h)"
      ],
      "metadata": {
        "colab": {
          "base_uri": "https://localhost:8080/"
        },
        "id": "cuGxFkQaGQEy",
        "outputId": "4dae109d-17c8-435f-d10b-02feb9dc5115"
      },
      "execution_count": null,
      "outputs": [
        {
          "output_type": "stream",
          "name": "stdout",
          "text": [
            "2\n",
            "/\n",
            "2\n",
            "1.0\n"
          ]
        }
      ]
    },
    {
      "cell_type": "code",
      "source": [
        "#fibonacci series using recursion\n",
        "def fibonacci(n):\n",
        "    if n <= 0:\n",
        "        return 0\n",
        "    elif n == 1:\n",
        "        return 1\n",
        "    else:\n",
        "        return fibonacci(n-1) + fibonacci(n-2)\n",
        "n = int(input(\"Enter the number of terms in the Fibonacci sequence: \"))\n",
        "print(\"Fibonacci sequence:\")\n",
        "for i in range(n):\n",
        "    print(fibonacci(i), end=\" \")"
      ],
      "metadata": {
        "colab": {
          "base_uri": "https://localhost:8080/"
        },
        "id": "e7_74f9ZmUNy",
        "outputId": "649e544a-504b-4db8-8f73-5343aeeec588"
      },
      "execution_count": null,
      "outputs": [
        {
          "output_type": "stream",
          "name": "stdout",
          "text": [
            "Enter the number of terms in the Fibonacci sequence: 5\n",
            "Fibonacci sequence:\n",
            "0 1 1 2 3 "
          ]
        }
      ]
    },
    {
      "cell_type": "code",
      "source": [
        "#factorial of a number\n",
        "def factorial(n):\n",
        "    if n == 0 or n == 1:\n",
        "        return 1\n",
        "    else:\n",
        "        return n * factorial(n - 1)\n",
        "n = int(input(\"Enter a number to calculate its factorial: \"))\n",
        "print(\"Factorial of\", n, \"is\", factorial(n))"
      ],
      "metadata": {
        "colab": {
          "base_uri": "https://localhost:8080/"
        },
        "id": "iWmolPiLmZ-A",
        "outputId": "c92c288f-9f40-480a-ee15-dfd9634cbd0d"
      },
      "execution_count": null,
      "outputs": [
        {
          "output_type": "stream",
          "name": "stdout",
          "text": [
            "Enter a number to calculate its factorial: 5\n",
            "Factorial of 5 is 120\n"
          ]
        }
      ]
    },
    {
      "cell_type": "code",
      "source": [
        "#to print all the prime within a given internval\n",
        "def print_prime_numbers(n):\n",
        "    print(\"Prime numbers up to\", n, \":\")\n",
        "    for num in range(2, n + 1):\n",
        "        is_prime = True\n",
        "        for i in range(2, int(num**0.5) + 1):\n",
        "            if num % i == 0:\n",
        "                is_prime = False\n",
        "                break\n",
        "        if is_prime:\n",
        "            print(num, end=\" \")\n",
        "n = int(input(\"Enter a number to find all prime numbers up to it: \"))\n",
        "print_prime_numbers(n)"
      ],
      "metadata": {
        "colab": {
          "base_uri": "https://localhost:8080/"
        },
        "id": "n-kGP2b-mhyZ",
        "outputId": "3a14ff28-af94-4e41-e44e-2a1b0f9f2496"
      },
      "execution_count": null,
      "outputs": [
        {
          "output_type": "stream",
          "name": "stdout",
          "text": [
            "Enter a number to find all prime numbers up to it: 100\n",
            "Prime numbers up to 100 :\n",
            "2 3 5 7 11 13 17 19 23 29 31 37 41 43 47 53 59 61 67 71 73 79 83 89 97 "
          ]
        }
      ]
    },
    {
      "cell_type": "code",
      "source": [
        "#add two binary no. by getting values from user\n",
        "num1=input(\"Enter first binary number: \")\n",
        "num2=input(\"Enter another binary number: \")\n",
        "sum=bin(int(num1,2) + int(num2,2))\n",
        "print(\"The sum of\", num1, \"and\", num2, \"in binary is:\", sum)"
      ],
      "metadata": {
        "colab": {
          "base_uri": "https://localhost:8080/"
        },
        "id": "EL4uhOOkr3JZ",
        "outputId": "3bbb3ef3-63d0-4004-8d05-e5260a848858"
      },
      "execution_count": null,
      "outputs": [
        {
          "output_type": "stream",
          "name": "stdout",
          "text": [
            "Enter first binary number: 11\n",
            "Enter another binary number: 11\n",
            "The sum of 11 and 11 in binary is: 110\n"
          ]
        }
      ]
    },
    {
      "cell_type": "code",
      "source": [
        "#to take binary from user and print decimal\n",
        "num3=input(\"enter binary number: \")\n",
        "dec_num=int(num3,2)\n",
        "print(\"The decimal equivalent of\", num3, \"is:\", dec_num)"
      ],
      "metadata": {
        "id": "cDlDqwntvr8p"
      },
      "execution_count": null,
      "outputs": []
    },
    {
      "cell_type": "markdown",
      "source": [
        "Day 4"
      ],
      "metadata": {
        "id": "-4f53eJnYV7y"
      }
    },
    {
      "cell_type": "code",
      "source": [
        "#add two binary no. specified in program\n",
        "num1=\"1101\"\n",
        "num2=\"1011\"\n",
        "sum=bin(int(num1,2) + int(num2,2))\n",
        "print(\"The sum of\", num1, \"and\", num2, \"in binary is:\", sum[2:])"
      ],
      "metadata": {
        "colab": {
          "base_uri": "https://localhost:8080/"
        },
        "id": "q29WlY3GYVeD",
        "outputId": "dcf055a6-9ba2-434a-d10c-ffe93ea22176"
      },
      "execution_count": null,
      "outputs": [
        {
          "output_type": "stream",
          "name": "stdout",
          "text": [
            "The sum of 1101 and 1011 in binary is: 11000\n"
          ]
        }
      ]
    },
    {
      "cell_type": "code",
      "source": [
        "#add two binary no. by getting values from user\n",
        "num1=input(\"Enter first binary number: \")\n",
        "num2=input(\"Enter another binary number: \")\n",
        "sum=bin(int(num1,2) + int(num2,2))\n",
        "print(\"The sum of\", num1, \"and\", num2, \"in binary is:\", sum[2:])"
      ],
      "metadata": {
        "colab": {
          "base_uri": "https://localhost:8080/"
        },
        "id": "nYAjA6meZH1c",
        "outputId": "0f5db8fb-9da7-4456-e37c-ee310b3585e1"
      },
      "execution_count": null,
      "outputs": [
        {
          "output_type": "stream",
          "name": "stdout",
          "text": [
            "Enter first binary number: 1101\n",
            "Enter another binary number: 1011\n",
            "The sum of 1101 and 1011 in binary is: 11000\n"
          ]
        }
      ]
    },
    {
      "cell_type": "code",
      "source": [
        "#to find power of a number\n",
        "base=float(input(\"Enter base:\"))\n",
        "exponent=float(input(\"Enter exponent:\"))\n",
        "result=base**exponent\n",
        "print(base,\"to the power of\",exponent,\"is\",result)"
      ],
      "metadata": {
        "colab": {
          "base_uri": "https://localhost:8080/"
        },
        "id": "acpVXjocct5h",
        "outputId": "363b6a88-803a-4996-9f3b-ab472dd2eacc"
      },
      "execution_count": null,
      "outputs": [
        {
          "output_type": "stream",
          "name": "stdout",
          "text": [
            "Enter base:2\n",
            "Enter exponent:7\n",
            "2.0 to the power of 7.0 is 128.0\n"
          ]
        }
      ]
    },
    {
      "cell_type": "code",
      "source": [
        "#while loop with break statement\n",
        "while True:\n",
        "  user_input=input(\"Type something (or 'exit' to stop):\")\n",
        "  if user_input==\"exit\":\n",
        "    break\n",
        "  print(\"Ymou typed:\",user_input)"
      ],
      "metadata": {
        "colab": {
          "base_uri": "https://localhost:8080/"
        },
        "id": "tnd4q5eNe10B",
        "outputId": "77951cba-245e-4d9a-8786-f5d7c9f33590"
      },
      "execution_count": null,
      "outputs": [
        {
          "name": "stdout",
          "output_type": "stream",
          "text": [
            "Type something (or 'exit' to stop):Lavish is the best\n",
            "you typed: Lavish is the best\n",
            "Type something (or 'exit' to stop):exit\n"
          ]
        }
      ]
    },
    {
      "cell_type": "code",
      "source": [
        "# to skip even numbers\n",
        "for i in range(0,100):\n",
        "  if i%2==0:\n",
        "    continue\n",
        "  print(i)"
      ],
      "metadata": {
        "colab": {
          "base_uri": "https://localhost:8080/"
        },
        "collapsed": true,
        "id": "QkgS2ly-fr3u",
        "outputId": "9bd1eed0-d1a7-452e-923a-73388807484e"
      },
      "execution_count": null,
      "outputs": [
        {
          "output_type": "stream",
          "name": "stdout",
          "text": [
            "1\n",
            "3\n",
            "5\n",
            "7\n",
            "9\n",
            "11\n",
            "13\n",
            "15\n",
            "17\n",
            "19\n",
            "21\n",
            "23\n",
            "25\n",
            "27\n",
            "29\n",
            "31\n",
            "33\n",
            "35\n",
            "37\n",
            "39\n",
            "41\n",
            "43\n",
            "45\n",
            "47\n",
            "49\n",
            "51\n",
            "53\n",
            "55\n",
            "57\n",
            "59\n",
            "61\n",
            "63\n",
            "65\n",
            "67\n",
            "69\n",
            "71\n",
            "73\n",
            "75\n",
            "77\n",
            "79\n",
            "81\n",
            "83\n",
            "85\n",
            "87\n",
            "89\n",
            "91\n",
            "93\n",
            "95\n",
            "97\n",
            "99\n"
          ]
        }
      ]
    },
    {
      "cell_type": "code",
      "source": [
        "# to print an array , sum of array and laregest element\n",
        "numbers=[10,60,30,40,50,]\n",
        "total=0\n",
        "max=numbers[0]\n",
        "for num in numbers:\n",
        "  print(num)\n",
        "  total+=num\n",
        "  if num>max:\n",
        "    max=num\n",
        "print(\"Sum 0f array:\",total)\n",
        "print(\"largest element of array:\",max)"
      ],
      "metadata": {
        "colab": {
          "base_uri": "https://localhost:8080/"
        },
        "id": "J-MZoVZ9hrQL",
        "outputId": "f5ac4eed-8e26-4dcb-d328-6288a6684d26"
      },
      "execution_count": null,
      "outputs": [
        {
          "output_type": "stream",
          "name": "stdout",
          "text": [
            "10\n",
            "60\n",
            "30\n",
            "40\n",
            "50\n",
            "Sum 0f array: 190\n",
            "largest element of array: 60\n"
          ]
        }
      ]
    },
    {
      "cell_type": "code",
      "source": [
        "# Array using numpy\n",
        "import numpy as np\n",
        "numbers1=np.array([10,60,23,46])\n",
        "print(\"Array 1:\",numbers1)\n",
        "numbers2=np.array([32,4,53,23])\n",
        "print(\"Array 2:\",numbers2)\n",
        "sum_numbers=numbers1+numbers2\n",
        "print(\"sum of arrays :\",sum_numbers)\n",
        "print(\"Max:\",np.max(sum_numbers))\n",
        "print(\"Min:\",np.min(sum_numbers))\n",
        "print(\"Sum:\",np.sum(sum_numbers))\n",
        "arr=np.arange(1,21)\n",
        "print(arr)\n",
        "reshaped=arr.reshape(10,2)\n",
        "print(\"reshaped array:\\n\",reshaped)\n",
        "result=arr*2\n",
        "print(\"multiplied array:\",result)\n",
        "rand_arr=np.random.randint(1,100,size=5)\n",
        "print(\"random array:\",rand_arr)"
      ],
      "metadata": {
        "colab": {
          "base_uri": "https://localhost:8080/"
        },
        "id": "LRpQIpCAlNRP",
        "outputId": "ab6eeb0c-4c0d-497f-de83-c40a22f60dff"
      },
      "execution_count": null,
      "outputs": [
        {
          "output_type": "stream",
          "name": "stdout",
          "text": [
            "Array 1: [10 60 23 46]\n",
            "Array 2: [32  4 53 23]\n",
            "sum of arrays : [42 64 76 69]\n",
            "Max: 76\n",
            "Min: 42\n",
            "Sum: 251\n",
            "[ 1  2  3  4  5  6  7  8  9 10 11 12 13 14 15 16 17 18 19 20]\n",
            "reshaped array:\n",
            " [[ 1  2]\n",
            " [ 3  4]\n",
            " [ 5  6]\n",
            " [ 7  8]\n",
            " [ 9 10]\n",
            " [11 12]\n",
            " [13 14]\n",
            " [15 16]\n",
            " [17 18]\n",
            " [19 20]]\n",
            "multiplied array: [ 2  4  6  8 10 12 14 16 18 20 22 24 26 28 30 32 34 36 38 40]\n",
            "random array: [17 15 25 45 23]\n"
          ]
        }
      ]
    },
    {
      "cell_type": "markdown",
      "source": [
        "Day 5"
      ],
      "metadata": {
        "id": "wRAZhfJumXkh"
      }
    },
    {
      "cell_type": "code",
      "source": [
        "num=[]\n",
        "n=int(input(\"enter no of elements:\"))\n",
        "even_count=0\n",
        "odd_count=0\n",
        "for i in  range(0,n):\n",
        "  num.append(int(input(\"enter element:\")))\n",
        "for i in range (n):\n",
        "  if(num[i]%2==0):\n",
        "    even_count+=1\n",
        "  else:\n",
        "    odd_count+=1\n",
        "print(\"Odd:\",odd_count)\n",
        "print(\"Even:\",even_count)\n",
        "print(\"Revese of array =\",num[::-1])"
      ],
      "metadata": {
        "colab": {
          "base_uri": "https://localhost:8080/"
        },
        "id": "Ez5NrRfDlETS",
        "outputId": "0023081c-c9bf-40c4-abf8-85b0ff2026ec"
      },
      "execution_count": null,
      "outputs": [
        {
          "output_type": "stream",
          "name": "stdout",
          "text": [
            "enter no of elements:5\n",
            "enter element:2\n",
            "enter element:3\n",
            "enter element:4\n",
            "enter element:5\n",
            "enter element:6\n",
            "Odd: 2\n",
            "Even: 3\n",
            "Revese of array = [6, 5, 4, 3, 2]\n"
          ]
        }
      ]
    },
    {
      "cell_type": "code",
      "source": [
        "array1=[]\n",
        "n=int(input(\"enter no of elements:\"))\n",
        "for i in  range(0,n):\n",
        "  array1.append(i)\n",
        "print(array1)"
      ],
      "metadata": {
        "colab": {
          "base_uri": "https://localhost:8080/"
        },
        "id": "mbYapKidmbPN",
        "outputId": "a00bbc2d-2f03-4e76-aa64-c46f4520d47c"
      },
      "execution_count": null,
      "outputs": [
        {
          "output_type": "stream",
          "name": "stdout",
          "text": [
            "enter no of elements:100\n",
            "[0, 1, 2, 3, 4, 5, 6, 7, 8, 9, 10, 11, 12, 13, 14, 15, 16, 17, 18, 19, 20, 21, 22, 23, 24, 25, 26, 27, 28, 29, 30, 31, 32, 33, 34, 35, 36, 37, 38, 39, 40, 41, 42, 43, 44, 45, 46, 47, 48, 49, 50, 51, 52, 53, 54, 55, 56, 57, 58, 59, 60, 61, 62, 63, 64, 65, 66, 67, 68, 69, 70, 71, 72, 73, 74, 75, 76, 77, 78, 79, 80, 81, 82, 83, 84, 85, 86, 87, 88, 89, 90, 91, 92, 93, 94, 95, 96, 97, 98, 99]\n"
          ]
        }
      ]
    },
    {
      "cell_type": "code",
      "source": [
        "import numpy as np\n",
        "numbers1=np.array([10,60,23,46])\n",
        "print(\"Array 1:\",numbers1)\n",
        "numbers2=np.array([32,4,53,23])\n",
        "print(\"Array 2:\",numbers2)\n",
        "sum_numbers=numbers1+numbers2\n",
        "print(\"sum of arrays :\",sum_numbers)"
      ],
      "metadata": {
        "colab": {
          "base_uri": "https://localhost:8080/"
        },
        "id": "qIG2TMiBumWl",
        "outputId": "2c657fcd-7c1b-425a-dacc-afe829ec6cfc"
      },
      "execution_count": null,
      "outputs": [
        {
          "output_type": "stream",
          "name": "stdout",
          "text": [
            "Array 1: [10 60 23 46]\n",
            "Array 2: [32  4 53 23]\n",
            "sum of arrays : [42 64 76 69]\n"
          ]
        }
      ]
    },
    {
      "cell_type": "code",
      "source": [
        "item=int(input(\"enter the element to be searched:\"))\n",
        "index=-1\n",
        "for i in range(n):\n",
        "  if array1[i]==item:\n",
        "    index=i-1\n",
        "    break\n",
        "if index==-1:\n",
        "  print(\"element not found\")\n",
        "else:\n",
        "  print(\"element found at index:\",index)\n"
      ],
      "metadata": {
        "colab": {
          "base_uri": "https://localhost:8080/"
        },
        "id": "iHkzId1C1G78",
        "outputId": "23e606e9-7598-4733-ad79-e8e045211c0a"
      },
      "execution_count": null,
      "outputs": [
        {
          "output_type": "stream",
          "name": "stdout",
          "text": [
            "enter the element to be searched:23\n",
            "element found at index: 22\n"
          ]
        }
      ]
    },
    {
      "cell_type": "markdown",
      "source": [
        "Day 6\n"
      ],
      "metadata": {
        "id": "-hdUHwFKA-kr"
      }
    },
    {
      "cell_type": "code",
      "source": [
        "arr1=[]\n",
        "sum1=0\n",
        "even=0\n",
        "odd=0\n",
        "n=int(input(\"Enter no of elements to be entered:\"))\n",
        "for i in range(n):\n",
        "    x=int(input(\"Enter element:\"))\n",
        "    arr1.append(x)\n",
        "    sum1+=x\n",
        "print(arr1)\n",
        "print(\"sum=\",sum1)\n",
        "print(\"max=\",max(arr1))\n",
        "for i in arr1:\n",
        "  if i%2==0:\n",
        "    even+=1\n",
        "  else:\n",
        "    odd+=1\n",
        "triple=[]\n",
        "for i in range(len(arr1)):\n",
        "    triple.append(arr1[i]*3)\n",
        "print(\"triple=\",triple)\n",
        "print(\"odd=\",odd)\n",
        "print(\"even=\",even)\n",
        "print(\"array=\",arr1)\n",
        "reverse=[]\n",
        "for i in range(len(arr1)):\n",
        "    reverse.append(arr1[len(arr1)-1-i])\n",
        "print(\"reverse=\",reverse)"
      ],
      "metadata": {
        "colab": {
          "base_uri": "https://localhost:8080/"
        },
        "id": "rEIMpQl0BAgP",
        "outputId": "b30d5ac7-0d8a-47a8-fe6d-8692036645d4"
      },
      "execution_count": null,
      "outputs": [
        {
          "output_type": "stream",
          "name": "stdout",
          "text": [
            "50\n",
            "0\n",
            "5\n",
            "[ 30  60  90 120 150]\n",
            "[10 20 30 40 50]\n",
            "[50 40 30 20 10]\n"
          ]
        }
      ]
    },
    {
      "cell_type": "code",
      "source": [
        "arr1=[]\n",
        "n=int(input(\"Enter no of elements to be entered:\"))\n",
        "for i in range(n):\n",
        "    x=int(input(\"Enter element:\"))\n",
        "    arr1.append(x)\n",
        "while True:\n",
        "    sum1=0\n",
        "    even=0\n",
        "    odd=0\n",
        "    print(\"\"\"\\nMenu:-\n",
        "1.Print array\n",
        "2.Print sum\n",
        "3.Print max\n",
        "4.Print Triple\n",
        "5.Print reverse\n",
        "6.Print Odd and Even\n",
        "7.Exit\\n\n",
        "\"\"\")\n",
        "    choice=input(\"Enter choice:\")\n",
        "    for i in range(n):\n",
        "        sum1+=x\n",
        "    if choice==\"1\":\n",
        "        print(arr1)\n",
        "    elif choice==\"2\":\n",
        "        print(\"sum =\",sum1)\n",
        "    elif choice==\"3\":\n",
        "        print(\"max =\",max(arr1))\n",
        "    elif choice==\"4\":\n",
        "        triple=[]\n",
        "        for i in range(n):\n",
        "            triple.append(arr1[i]*3)\n",
        "        print(\"triple =\",triple)\n",
        "    elif choice==\"5\":\n",
        "        print(\"array =\",arr1)\n",
        "        reverse=[]\n",
        "        for i in range(n):\n",
        "            reverse.append(arr1[n-1-i])\n",
        "        print(\"reverse =\",reverse)\n",
        "    elif choice==\"6\":\n",
        "        for i in arr1:\n",
        "            if i%2==0:\n",
        "                even+=1\n",
        "            else:\n",
        "                odd+=1\n",
        "        print(\"odd =\",odd)\n",
        "        print(\"even =\",even)\n",
        "    elif choice==\"7\":\n",
        "        break;\n",
        "    else:\n",
        "        print(\"\\nenter a valid choice\\n\")\n",
        "        continue"
      ],
      "metadata": {
        "id": "dIkL2ziRMJZa"
      },
      "execution_count": null,
      "outputs": []
    },
    {
      "cell_type": "markdown",
      "source": [
        "Day 7"
      ],
      "metadata": {
        "id": "WFBNnQFKo9vi"
      }
    },
    {
      "cell_type": "code",
      "source": [
        "from functools import reduce\n",
        "# Lambda function\n",
        "\"\"\"small function (one expression) with no name(anonymous)\n",
        "compact in nature(1 line)\n",
        "any no. of arguments can be given(Arbitrary arguments)\n",
        "Syntax:-\n",
        "lambda arguments : expression\"\"\"\n",
        "l=lambda x:x+10\n",
        "print(l(5))\n",
        "multiply=lambda a,b:a*b\n",
        "print(multiply(5,6))\n",
        "def myfunc(n):\n",
        "  return lambda a:a*n\n",
        "mydoubler=myfunc(2)\n",
        "print(mydoubler(11))\n",
        "mytripler=myfunc(3)\n",
        "print(mytripler(11))\n",
        "add=lambda x,y,z:x+y+z\n",
        "print(add(1,2,3))\n",
        "nums=[1,2,3,4,5,6,7,8,9,0]\n",
        "even=list(filter(lambda x:x%2==0,nums))    # filter data\n",
        "print(even)\n",
        "double=list(map(lambda x:x*2,nums))        # map one by one access data\n",
        "print(double)\n",
        "square=list(map(lambda x:x**2,nums))\n",
        "print(square)\n",
        "s1=\"hello world\"\n",
        "s2=lambda func:func.upper()\n",
        "print(s2(s1))\n",
        "n=lambda x:\"positive\" if x>0 else \"negative\" if x<0 else \"zero\"\n",
        "print(n(5))\n",
        "a=[1,2,3,4]\n",
        "b=reduce(lambda x,y:x*y,a)                 # reduce() function from functools\n",
        "print(b)\n",
        "li=[lambda arg=x:arg*10 for x in range(1,5)]\n",
        "for i in li:\n",
        "  print(i())\n",
        "calc=lambda x,y:(x+y,x*y)\n",
        "res=calc(3,4)\n",
        "print(res)"
      ],
      "metadata": {
        "colab": {
          "base_uri": "https://localhost:8080/"
        },
        "id": "4WoltjgSo9Iz",
        "outputId": "f4eefdb1-c3c4-4e97-a95a-68032a77d3f7"
      },
      "execution_count": null,
      "outputs": [
        {
          "output_type": "stream",
          "name": "stdout",
          "text": [
            "15\n",
            "30\n",
            "22\n",
            "33\n",
            "6\n",
            "[2, 4, 6, 8, 0]\n",
            "[2, 4, 6, 8, 10, 12, 14, 16, 18, 0]\n",
            "[1, 4, 9, 16, 25, 36, 49, 64, 81, 0]\n",
            "HELLO WORLD\n",
            "positive\n",
            "24\n",
            "10\n",
            "20\n",
            "30\n",
            "40\n",
            "(7, 12)\n"
          ]
        }
      ]
    },
    {
      "cell_type": "markdown",
      "source": [
        "Day 8"
      ],
      "metadata": {
        "id": "BhhCqUWcFgMS"
      }
    },
    {
      "cell_type": "code",
      "source": [
        "txt=\"         hEllo WorLd           \"\n",
        "txt2=\"!!!!\"\n",
        "print(txt.capitalize())\n",
        "print(txt.upper())\n",
        "print(txt.lower())\n",
        "print(txt.title())\n",
        "print(txt.strip())\n",
        "print(txt.lstrip())\n",
        "print(txt.rstrip())\n",
        "print(txt.startswith('h'))\n",
        "print(txt.split())\n",
        "print(txt.islower())\n",
        "print(txt.isupper())\n",
        "print(txt.isalpha())\n",
        "print(txt.isnumeric())\n",
        "print(txt.isdigit())\n",
        "print(txt.count('o'))\n",
        "print(txt.replace(\" \",'_'))\n",
        "print(txt.find('r'))\n",
        "print(txt.index('r'))\n",
        "print(txt.swapcase())\n",
        "print(txt.isalnum())\n",
        "print(txt+txt2)\n",
        "print(txt.join(txt2))"
      ],
      "metadata": {
        "colab": {
          "base_uri": "https://localhost:8080/"
        },
        "id": "keEcRePEFib6",
        "outputId": "6aa3deb0-e906-425c-f1fd-739286924e19"
      },
      "execution_count": null,
      "outputs": [
        {
          "output_type": "stream",
          "name": "stdout",
          "text": [
            "         hello world           \n",
            "         HELLO WORLD           \n",
            "         hello world           \n",
            "         Hello World           \n",
            "hEllo WorLd\n",
            "hEllo WorLd           \n",
            "         hEllo WorLd\n",
            "False\n",
            "['hEllo', 'WorLd']\n",
            "False\n",
            "False\n",
            "False\n",
            "False\n",
            "False\n",
            "2\n",
            "_________hEllo_WorLd___________\n",
            "17\n",
            "17\n",
            "         HeLLO wORlD           \n",
            "False\n",
            "         hEllo WorLd           !!!!\n",
            "!         hEllo WorLd           !         hEllo WorLd           !         hEllo WorLd           !\n"
          ]
        }
      ]
    },
    {
      "cell_type": "markdown",
      "source": [
        "Day 9\n"
      ],
      "metadata": {
        "id": "bhNodGThtYyO"
      }
    },
    {
      "cell_type": "code",
      "source": [
        "txt=input(\"Enter a sting\")\n",
        "print(txt[::-1])\n",
        "print(txt.capitalize())\n",
        "print(txt.upper())\n",
        "print(txt.lower())\n",
        "print(txt.title())\n",
        "print(txt.strip())\n",
        "print(txt.lstrip())\n",
        "print(txt.rstrip())\n",
        "print(txt.startswith('h'))\n",
        "print(txt.split())\n",
        "print(txt.islower())\n",
        "print(txt.isupper())\n",
        "print(txt.isalpha())\n",
        "print(txt.isnumeric())\n",
        "print(txt.isdigit())\n",
        "print(txt.count('o'))\n",
        "print(txt.replace(\" \",'_'))\n",
        "print(txt.swapcase())\n",
        "print(txt.isalnum())\n",
        "txt2=\"!!!!\"\n",
        "print(txt+txt2)\n",
        "print(txt.join(txt2))"
      ],
      "metadata": {
        "id": "2k6WLTuotbJe",
        "colab": {
          "base_uri": "https://localhost:8080/"
        },
        "outputId": "7b54681a-05c1-4420-8d83-4f27c84f828c"
      },
      "execution_count": null,
      "outputs": [
        {
          "output_type": "stream",
          "name": "stdout",
          "text": [
            "Enter a stinghello world!\n",
            "!dlrow olleh\n",
            "Hello world!\n",
            "HELLO WORLD!\n",
            "hello world!\n",
            "Hello World!\n",
            "hello world!\n",
            "hello world!\n",
            "hello world!\n",
            "True\n",
            "['hello', 'world!']\n",
            "True\n",
            "False\n",
            "False\n",
            "False\n",
            "False\n",
            "2\n",
            "hello_world!\n",
            "8\n",
            "8\n",
            "HELLO WORLD!\n",
            "False\n",
            "hello world!!!!!\n",
            "!hello world!!hello world!!hello world!!\n"
          ]
        }
      ]
    },
    {
      "cell_type": "code",
      "source": [
        "# reverse of a no\n",
        "a=int(input(\"enter any no.\"))\n",
        "reverse=0;\n",
        "while (a>=0):\n",
        "  reverse=reverse*10+a%10\n",
        "  a=a//10\n",
        "  if(a==0):\n",
        "    break\n",
        "print(\"reverse =\",reverse)\n"
      ],
      "metadata": {
        "id": "72Rz8iTatrNv",
        "colab": {
          "base_uri": "https://localhost:8080/"
        },
        "outputId": "b7467dc9-9aa6-48d2-8b59-12ea20234ff7"
      },
      "execution_count": null,
      "outputs": [
        {
          "output_type": "stream",
          "name": "stdout",
          "text": [
            "enter any no.1230\n",
            "reverse= 321\n"
          ]
        }
      ]
    },
    {
      "cell_type": "code",
      "source": [
        "# reverse\n",
        "a=input(\"enter any no.\")\n",
        "reverse=a[::-1]\n",
        "print(reverse)"
      ],
      "metadata": {
        "colab": {
          "base_uri": "https://localhost:8080/"
        },
        "id": "ZpxbdU_cwH4H",
        "outputId": "5fb82849-9402-4056-afed-9b57bfc733ec"
      },
      "execution_count": null,
      "outputs": [
        {
          "output_type": "stream",
          "name": "stdout",
          "text": [
            "enter any no.1230\n",
            "0321\n"
          ]
        }
      ]
    },
    {
      "cell_type": "code",
      "source": [
        "# to calculate SI and CI\n",
        "p=float(input(\"enter principal amount:\"))\n",
        "r=float(input(\"enter rate:\"))/100\n",
        "t=float(input(\"enter time:\"))\n",
        "SI=p*r*t\n",
        "n=float(input(\"enter no of times interest is compounded per time period:\"))\n",
        "Ci=p*(1+r/n)**n*t\n",
        "print(\"Simple Interest:\",SI)\n",
        "print(\"Compound Interest:\",Ci)"
      ],
      "metadata": {
        "colab": {
          "base_uri": "https://localhost:8080/"
        },
        "id": "QKLobMfmxti2",
        "outputId": "a9cf5271-2bcb-442d-c96d-dfe004257cd8"
      },
      "execution_count": null,
      "outputs": [
        {
          "output_type": "stream",
          "name": "stdout",
          "text": [
            "enter principal amount:10000\n",
            "enter rate:5\n",
            "enter time:2\n",
            "enter no of times interest is compounded per time period:12\n",
            "Simple Interest: 1000.0\n",
            "Compound Interest: 21023.23795763466\n"
          ]
        }
      ]
    },
    {
      "cell_type": "code",
      "source": [
        "# celcius to fahrenheit\n",
        "c=float(input(\"enter temp in celcius:\"))\n",
        "f=c*9/5+32\n",
        "print(\"temp in fahrenheit:\",f)"
      ],
      "metadata": {
        "colab": {
          "base_uri": "https://localhost:8080/"
        },
        "id": "vQ5MB5ihydWx",
        "outputId": "f4abcd94-e127-4946-9224-c45ed4d8c181"
      },
      "execution_count": null,
      "outputs": [
        {
          "output_type": "stream",
          "name": "stdout",
          "text": [
            "enter temp in celcius100\n",
            "temp in fahrenheit: 212.0\n"
          ]
        }
      ]
    },
    {
      "cell_type": "code",
      "source": [
        "# to find sum of digit of a number\n",
        "a=int(input(\"enter any no.\"))\n",
        "sum=0\n",
        "while (a>0):\n",
        "  sum+=a%10\n",
        "  a=a//10\n",
        "print(\"sum =\",sum)"
      ],
      "metadata": {
        "colab": {
          "base_uri": "https://localhost:8080/"
        },
        "id": "WtxHx1xF6Df0",
        "outputId": "14923b31-b522-4c27-ac74-a60e80e3d7fe"
      },
      "execution_count": null,
      "outputs": [
        {
          "output_type": "stream",
          "name": "stdout",
          "text": [
            "enter any no.123\n",
            "sum = 6\n"
          ]
        }
      ]
    },
    {
      "cell_type": "code",
      "source": [
        "# count alphabets digits and symbols\n",
        "a=input(\"Enter any string\")\n",
        "alphabets=0\n",
        "digits=0\n",
        "symbols=0\n",
        "for char in a:\n",
        "        if char.isalpha():\n",
        "            alphabets += 1\n",
        "        elif char.isdigit():\n",
        "            digits += 1\n",
        "        else:\n",
        "            symbols += 1\n",
        "print(\"Alphabets:\", alphabets)\n",
        "print(\"Digits:\", digits)\n",
        "print(\"Symbols:\", symbols)\n",
        "\n"
      ],
      "metadata": {
        "colab": {
          "base_uri": "https://localhost:8080/"
        },
        "id": "dYdVbmaE6Z3L",
        "outputId": "956cf335-d3ef-4430-d51f-717b3525689a"
      },
      "execution_count": null,
      "outputs": [
        {
          "output_type": "stream",
          "name": "stdout",
          "text": [
            "Enter any stringhello @123\n",
            "Alphabets: 5\n",
            "Digits: 3\n",
            "Symbols: 2\n"
          ]
        }
      ]
    },
    {
      "cell_type": "code",
      "source": [
        "# palindrome\n",
        "a=input(\"enter any string\")\n",
        "if(a==a[::-1]):\n",
        "  print(\"palindrome\")\n",
        "else:\n",
        "  print(\"not palindrome\")"
      ],
      "metadata": {
        "id": "x7mYBfGQ6pNO"
      },
      "execution_count": null,
      "outputs": []
    },
    {
      "cell_type": "markdown",
      "source": [
        "Day 10"
      ],
      "metadata": {
        "id": "w2SAhgKgGzDE"
      }
    },
    {
      "cell_type": "code",
      "source": [
        "# to search an element in an array\n",
        "a=[]\n",
        "n=int(input(\"enter no of elements:\"))\n",
        "for i in range(n):\n",
        "  a.append(int(input(\"enter element:\")))\n",
        "x=int(input(\"enter element to be searched:\"))\n",
        "for i in a:\n",
        "  if(i==x):\n",
        "    print(\"element found at index:\",a.index(i))\n",
        "    break\n",
        "else:\n",
        "  print(\"element not found\")"
      ],
      "metadata": {
        "colab": {
          "base_uri": "https://localhost:8080/"
        },
        "id": "YBuP3ydqI3vM",
        "outputId": "119bd37a-478e-4e2f-a13c-2ac97fd51625"
      },
      "execution_count": null,
      "outputs": [
        {
          "output_type": "stream",
          "name": "stdout",
          "text": [
            "enter no of elements:5\n",
            "enter element:1\n",
            "enter element:2\n",
            "enter element:3\n",
            "enter element:4\n",
            "enter element:5\n",
            "enter element to be searched:2\n",
            "element found at index: 1\n"
          ]
        }
      ]
    },
    {
      "cell_type": "code",
      "source": [
        "# generate a game to guess a no.\n",
        "import random\n",
        "n=random.randint(0,10)\n",
        "attempts=0\n",
        "print(n)\n",
        "while True:\n",
        "  z=int(input(\"Enter your guess(between 0-10):\"))\n",
        "  if(z>10 or z<0):\n",
        "    print(\"Guess no. between 0-10 only\")\n",
        "    continue\n",
        "  if(z==n):\n",
        "    print(\"Congratulations You guessed it right in\",attempts+1,\"attempts\")\n",
        "    break\n",
        "  else:\n",
        "    print(\"Try again\")\n",
        "    attempts+=1\n",
        "    if(z<n):\n",
        "      print(\"too low\")\n",
        "    elif(z>n):\n",
        "      print(\"too high\")\n",
        "    if(attempts==4):\n",
        "        print(\"You Lost\")\n",
        "        break\n",
        "    print(\"only\",4-attempts,\"left\")"
      ],
      "metadata": {
        "colab": {
          "base_uri": "https://localhost:8080/"
        },
        "id": "tsgzL8dQI-U2",
        "outputId": "74ec39ab-1eb5-41e8-e92a-db43315082fb"
      },
      "execution_count": null,
      "outputs": [
        {
          "output_type": "stream",
          "name": "stdout",
          "text": [
            "6\n",
            "Enter your guess(between 0-10):2\n",
            "Try again\n",
            "too low\n",
            "only 3 left\n",
            "Enter your guess(between 0-10):1\n",
            "Try again\n",
            "too low\n",
            "only 2 left\n",
            "Enter your guess(between 0-10):3\n",
            "Enter your guess(between 0-10):4\n",
            "Try again\n",
            "too low\n",
            "only 1 left\n",
            "Try again\n",
            "too low\n",
            "only 0 left\n",
            "You Lost\n"
          ]
        }
      ]
    },
    {
      "cell_type": "code",
      "source": [
        "#generate a random array of size 10\n",
        "import numpy as np\n",
        "import random\n",
        "arr = np.array([random.randint(1, 100) for i in range(10)])\n",
        "print(\"Original array:\\n\", arr)\n",
        "reshaped=arr.reshape(2,5)\n",
        "print(\"reshaped array:\\n\",reshaped)"
      ],
      "metadata": {
        "colab": {
          "base_uri": "https://localhost:8080/"
        },
        "id": "y66h4VViLZpX",
        "outputId": "25ef094e-e864-4e87-8da2-17284fb6d7d9"
      },
      "execution_count": null,
      "outputs": [
        {
          "output_type": "stream",
          "name": "stdout",
          "text": [
            "Original array:\n",
            " [70 42 45 90  7 87 64 64 57 22]\n",
            "reshaped array:\n",
            " [[70 42 45 90  7]\n",
            " [87 64 64 57 22]]\n"
          ]
        }
      ]
    },
    {
      "cell_type": "markdown",
      "source": [
        "DAY 11"
      ],
      "metadata": {
        "id": "6AquzxnoySqZ"
      }
    },
    {
      "cell_type": "code",
      "source": [
        "#to find sum of list elements\n",
        "l1=[1,2,3,5,3,5]\n",
        "print(\"list:\",l1)\n",
        "sum=0\n",
        "for i in l1:\n",
        "  sum+=i\n",
        "print(\"sum:\",sum)\n",
        "#to find largest , second largest and smallest element of list\n",
        "max=l1[0]\n",
        "min=l1[0]\n",
        "max2=l1[0]\n",
        "for i in range(len(l1)):\n",
        "  if l1[i]>max:\n",
        "    max=l1[i]\n",
        "  if l1[i]<min:\n",
        "    min=l1[i]\n",
        "for i in range(len(l1)):\n",
        "  if l1[i]>max2 and l1[i]!=max:\n",
        "    max2=l1[i]\n",
        "print(\"Largest:\",max)\n",
        "print(\"Second Largest:\",max2)\n",
        "print(\"Smallest:\",min)\n",
        "#to print reverse of list\n",
        "print(\"reverse:\",l1[::-1])\n",
        "#to find occurances of a number in a list\n",
        "target=int(input(\"enter target:\"))\n",
        "count=0\n",
        "for i in l1:\n",
        "  if i==target:\n",
        "    count+=1\n",
        "print(\"occurances:\",count)\n",
        "if(count==0):\n",
        "  print(\"Element not in list\")\n",
        "#to find even and odd no, in list\n",
        "even=[]\n",
        "odd=[]\n",
        "for i in l1:\n",
        "  if (i%2==0):\n",
        "    even.append(i)\n",
        "  else:\n",
        "    odd.append(i)\n",
        "print(\"no. of even no.:\",len(even))\n",
        "print(\"even:\",even)\n",
        "print(\"no. of odd no.:\",len(odd))\n",
        "print(\"odd:\",odd)\n",
        "#to find occurances of all number in a list\n",
        "occurances={}\n",
        "for i in l1:\n",
        "  if i in occurances:\n",
        "    occurances[i]+=1\n",
        "  else:\n",
        "    occurances[i]=1\n",
        "print(\"occurances:\",occurances)\n",
        "for i in occurances:\n",
        "  if(occurances[i]<=1):\n",
        "    print(i,\"has occured\",occurances[i],\"time\")\n",
        "  else:\n",
        "    print(i,\"has occured\",occurances[i],\"times\")\n",
        "#to find square of each list elements\n",
        "squared=[]\n",
        "for i in l1:\n",
        "  squared.append(i**2)\n",
        "print(\"Square of each element:\",squared)\n",
        "#to sort list in ascending and descending order\n",
        "print(\"Ascending:\",sorted(l1))\n",
        "print(\"Descending:\",sorted(l1,reverse=True))\n",
        "#merge 2 lists\n",
        "l2=[3,1,3,4,2,4,5,6]\n",
        "l3=l1+l2\n",
        "print(\"Merge:\",l3)\n",
        "l4=[]\n",
        "n=int(input(\"Enter no. of elements\"))\n",
        "for i in range(n):\n",
        "  x=int(input(\"Enter element\"))\n",
        "  l4.append(x)\n",
        "print(\"User input list:\",l4)\n",
        "#\n",
        "l5=[10,5,6,20,4]\n",
        "l5=sorted(l5)\n",
        "max=l5[-1]*l5[-2]*l5[-3]\n",
        "print(\"Maximum product:\",max)"
      ],
      "metadata": {
        "colab": {
          "base_uri": "https://localhost:8080/"
        },
        "id": "jxv6mibMyScH",
        "outputId": "0b77d481-2b8f-4a26-ba15-2d827abfdc49"
      },
      "execution_count": 14,
      "outputs": [
        {
          "output_type": "stream",
          "name": "stdout",
          "text": [
            "list: [1, 2, 3, 5, 3, 5]\n",
            "sum: 19\n",
            "Largest: 5\n",
            "Second Largest: 3\n",
            "Smallest: 1\n",
            "reverse: [5, 3, 5, 3, 2, 1]\n",
            "enter target:5\n",
            "occurances: 2\n",
            "no. of even no.: 1\n",
            "even: [2]\n",
            "no. of odd no.: 5\n",
            "odd: [1, 3, 5, 3, 5]\n",
            "occurances: {1: 1, 2: 1, 3: 2, 5: 2}\n",
            "1 has occured 1 time\n",
            "2 has occured 1 time\n",
            "3 has occured 2 times\n",
            "5 has occured 2 times\n",
            "Square of each element: [1, 4, 9, 25, 9, 25]\n",
            "Ascending: [1, 2, 3, 3, 5, 5]\n",
            "Descending: [5, 5, 3, 3, 2, 1]\n",
            "Merge: [1, 2, 3, 5, 3, 5, 3, 1, 3, 4, 2, 4, 5, 6]\n",
            "Enter no. of elements5\n",
            "Enter element1\n",
            "Enter element2\n",
            "Enter element3\n",
            "Enter element4\n",
            "Enter element5\n",
            "User input list: [1, 2, 3, 4, 5]\n",
            "Maximum product: 1200\n"
          ]
        }
      ]
    }
  ]
}